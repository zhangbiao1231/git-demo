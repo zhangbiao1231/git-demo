{
 "cells": [
  {
   "cell_type": "code",
   "execution_count": 1,
   "id": "520b5828-a899-4117-8d98-ac483bed2af8",
   "metadata": {},
   "outputs": [],
   "source": [
    "import numpy as np"
   ]
  },
  {
   "cell_type": "code",
   "execution_count": 251,
   "id": "6684b848-f9ec-4965-94d5-fad94c72a8d0",
   "metadata": {},
   "outputs": [],
   "source": [
    "class HMM:\n",
    "    def __init__(self,N,M,pi=None,A=None,B=None):\n",
    "        #可能的状态数\n",
    "        self.N = N\n",
    "        #可能的观测数\n",
    "        self.M = M\n",
    "        #初始状态概率向量\n",
    "        self.pi = pi\n",
    "        #状态转移概率矩阵\n",
    "        self.A = A\n",
    "        #观测概率矩阵\n",
    "        self.B = B\n",
    "    def rdistribution(self,dist):\n",
    "        r = np.random.rand()\n",
    "        for ix,p in enumerate(dist):\n",
    "            if r < p:\n",
    "                return ix\n",
    "            r -= p\n",
    "    def generate(self,T):\n",
    "        i = self.rdistribution(self.pi)\n",
    "        o = self.rdistribution(self.B[i])\n",
    "        observed_data = [o]\n",
    "        for _ in range(T-1):\n",
    "            i = self.rdistribution(self.A[i])\n",
    "            o = self.rdistribution(self.B[i])\n",
    "            observed_data.append(o)\n",
    "        return observed_data\n",
    "pi = np.array([0.25,0.25,0.25,0.25])\n",
    "A = np.array([\n",
    "    [0,1,0,0],\n",
    "    [0.4,0.6,0,0],\n",
    "    [0,0.4,0,0.6],\n",
    "    [0,0,0.5,0.5]])\n",
    "B = np.array([\n",
    "    [0.5,0.5],\n",
    "    [0.6,0.4],\n",
    "    [0.2,0.8],\n",
    "    [0.3,0.7]])\n",
    "N = 4\n",
    "M = 2"
   ]
  },
  {
   "cell_type": "code",
   "execution_count": 122,
   "id": "90cd0905-5350-406f-beb6-c98ad0f1a2b5",
   "metadata": {},
   "outputs": [],
   "source": [
    "hmm = HMM(N,M,pi,A,B)\n",
    "o = hmm.generate(5)"
   ]
  },
  {
   "cell_type": "code",
   "execution_count": 71,
   "id": "825ba520-20dc-482b-8495-fdb36d5f4f13",
   "metadata": {},
   "outputs": [
    {
     "name": "stdout",
     "output_type": "stream",
     "text": [
      "给定观测序列:\n",
      "[0, 0, 0, 1, 0]\n",
      "生成概率为：\n",
      "0.025782335249999996\n"
     ]
    }
   ],
   "source": [
    "#基于前向算法计算条件概率\n",
    "def prob_calc(o):\n",
    "    #初始值\n",
    "    alpha = pi * B[:,o[0]] # 1*4 数组 alpha_1(i) = pi_i * b_i(o_1) i指的是状态\n",
    "    #递推\n",
    "    for o in o[1:]:\n",
    "        alpha_next = np.empty(4)\n",
    "        for j in range(4):\n",
    "            alpha_next[j] = np.sum(A[:,j] * alpha * B[j,o]) \n",
    "        alpha = alpha_next\n",
    "    return alpha.sum() #对i_T求和 ，得到观测数据O的边际概率P(O|μ)\n",
    "# o = [1, 0, 1, 0, 1]\n",
    "p = prob_calc(o)\n",
    "print('给定观测序列:\\n{}\\n生成概率为：\\n{}'.format(o,p))"
   ]
  },
  {
   "cell_type": "code",
   "execution_count": 252,
   "id": "aacfcb70-20de-4ca3-9cbc-a6f7518a5b2a",
   "metadata": {},
   "outputs": [
    {
     "name": "stdout",
     "output_type": "stream",
     "text": [
      "给定观测序列：[1, 0, 1, 1, 0]\n",
      "最可能的隐藏序列：[0, 1, 1, 0, 1]\n"
     ]
    }
   ],
   "source": [
    "### 序列标注问题和维特比算法\n",
    "def viterbi_decode1(O,A,B,pi):\n",
    "    '''\n",
    "    输入\n",
    "    o:观测序列\n",
    "    输出\n",
    "    path：最优隐状态路径 \n",
    "    '''\n",
    "    # 序列长度和初始观测\n",
    "    T,o= len(O),O[0]\n",
    "    # 初始化delta变量 \n",
    "    delta =  pi * B[:,o] # 1*4 数组 delta_1(i) = pi_i * b_i(o_1) i指的是状态\n",
    "    # print(delta)\n",
    "    # 初始化varphi变量\n",
    "    varphi = np.zeros((T, A.shape[1]), dtype=int)\n",
    "    path = [0] * T\n",
    "    for i in range(1,T):\n",
    "        delta = delta.reshape(-1,1)\n",
    "        tmp = delta * A \n",
    "        delta = np.max(tmp, axis=0) * B[:,O[i]]\n",
    "        varphi[i,:] = np.argmax(tmp,axis=0)\n",
    "        # print('t = {},\\ntmp = {},\\ndelta{} = {}'.format(i+1,tmp,i+1,delta))\n",
    "        # varphi[i,:] = np.argmax(tmp,axis=0)\n",
    "    # print(varphi)\n",
    "    #终止\n",
    "    path[-1] = np.argmax(delta)\n",
    "    #回溯最优路径\n",
    "    for i in range(T-1,0,-1):\n",
    "        path[i-1] = varphi[i,path[i]]\n",
    "    return path\n",
    "O = [1, 0, 1, 1, 0]\n",
    "# pi = np.array([0.2,0.2,0.4])\n",
    "# A = np.array([\n",
    "#     [0.5,0.2,0.3],\n",
    "#     [0.3,0.5,0.2],\n",
    "#     [0.2,0.3,0.5]])\n",
    "# B = np.array([\n",
    "#     [0.5,0.5],\n",
    "#     [0.4,0.6],\n",
    "#     [0.7,0.3]])\n",
    "# O = [0,1,0]\n",
    "# O = hmm.generate(5)\n",
    "path = viterbi_decode1(O,A,B,pi)\n",
    "print('给定观测序列：{}\\n最可能的隐藏序列：{}'.format(O,path))"
   ]
  },
  {
   "cell_type": "code",
   "execution_count": null,
   "id": "41f1bff7-cdfb-4409-8cac-49fa26ef7f3a",
   "metadata": {},
   "outputs": [],
   "source": []
  }
 ],
 "metadata": {
  "kernelspec": {
   "display_name": "Python 3 (ipykernel)",
   "language": "python",
   "name": "python3"
  },
  "language_info": {
   "codemirror_mode": {
    "name": "ipython",
    "version": 3
   },
   "file_extension": ".py",
   "mimetype": "text/x-python",
   "name": "python",
   "nbconvert_exporter": "python",
   "pygments_lexer": "ipython3",
   "version": "3.11.7"
  }
 },
 "nbformat": 4,
 "nbformat_minor": 5
}
